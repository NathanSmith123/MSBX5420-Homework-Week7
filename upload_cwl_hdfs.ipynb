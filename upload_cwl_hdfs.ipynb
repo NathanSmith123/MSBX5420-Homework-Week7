{
 "cells": [
  {
   "cell_type": "code",
   "execution_count": 1,
   "metadata": {},
   "outputs": [],
   "source": [
    "import os\n",
    "from hdfs import InsecureClient\n",
    "\n",
    "client = InsecureClient('http://namenode:50070', user='root')"
   ]
  },
  {
   "cell_type": "code",
   "execution_count": 2,
   "metadata": {},
   "outputs": [
    {
     "data": {
      "text/plain": [
       "['Users']"
      ]
     },
     "execution_count": 2,
     "metadata": {},
     "output_type": "execute_result"
    }
   ],
   "source": [
    "client.list('/')"
   ]
  },
  {
   "cell_type": "code",
   "execution_count": 3,
   "metadata": {},
   "outputs": [],
   "source": [
    "client.makedirs('/Users')\n",
    "client.makedirs('/Users/vagrant')\n",
    "client.set_owner('/Users/vagrant', owner = 'vagrant', group = 'vagrant')"
   ]
  },
  {
   "cell_type": "code",
   "execution_count": 5,
   "metadata": {},
   "outputs": [
    {
     "data": {
      "text/plain": [
       "'./Week7'"
      ]
     },
     "execution_count": 5,
     "metadata": {},
     "output_type": "execute_result"
    }
   ],
   "source": [
    "datadir = os.path.join('./', 'Week7')\n"
   ]
  },
  {
   "cell_type": "code",
   "execution_count": 6,
   "metadata": {},
   "outputs": [],
   "source": [
    "hdfspath = '/Users/vagrant'"
   ]
  },
  {
   "cell_type": "code",
   "execution_count": 7,
   "metadata": {
    "scrolled": true
   },
   "outputs": [],
   "source": [
    "for subdir, dirs, file in os.walk(datadir):\n",
    "    if subdir not in ('./Week7'):\n",
    "        client.upload(hdfspath, subdir)\n",
    "        print(subdir)"
   ]
  },
  {
   "cell_type": "code",
   "execution_count": 9,
   "metadata": {},
   "outputs": [
    {
     "data": {
      "text/plain": [
       "['README.md',\n",
       " 'structured-2018-01-14-neworleans',\n",
       " 'structured-2018-03-11-atlanta',\n",
       " 'structured-2018-04-01-birmingham',\n",
       " 'structured-2018-04-08-proleague1',\n",
       " 'structured-2018-04-19-relegation',\n",
       " 'structured-2018-04-22-seattle',\n",
       " 'structured-2018-06-17-anaheim',\n",
       " 'structured-2018-07-29-proleague2',\n",
       " 'structured-2018-08-19-champs']"
      ]
     },
     "execution_count": 9,
     "metadata": {},
     "output_type": "execute_result"
    }
   ],
   "source": [
    "client.list('/Users/vagrant/')"
   ]
  },
  {
   "cell_type": "code",
   "execution_count": null,
   "metadata": {},
   "outputs": [],
   "source": []
  }
 ],
 "metadata": {
  "kernelspec": {
   "display_name": "Python 3",
   "language": "python",
   "name": "python3"
  },
  "language_info": {
   "codemirror_mode": {
    "name": "ipython",
    "version": 3
   },
   "file_extension": ".py",
   "mimetype": "text/x-python",
   "name": "python",
   "nbconvert_exporter": "python",
   "pygments_lexer": "ipython3",
   "version": "3.7.2"
  }
 },
 "nbformat": 4,
 "nbformat_minor": 2
}
